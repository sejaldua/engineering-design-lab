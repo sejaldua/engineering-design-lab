{
 "cells": [
  {
   "cell_type": "code",
   "execution_count": 39,
   "metadata": {},
   "outputs": [
    {
     "name": "stdout",
     "output_type": "stream",
     "text": [
      "Hello World\n"
     ]
    }
   ],
   "source": [
    "print(\"Hello World\")"
   ]
  },
  {
   "cell_type": "markdown",
   "metadata": {},
   "source": [
    "## Initialize GoPiGo"
   ]
  },
  {
   "cell_type": "code",
   "execution_count": 40,
   "metadata": {},
   "outputs": [
    {
     "name": "stdout",
     "output_type": "stream",
     "text": [
      "GoPiGo Initialized\n"
     ]
    }
   ],
   "source": [
    "# import GoPiGo Modules:\n",
    "import gopigo3\n",
    "import easysensors\n",
    "import easygopigo3 as easy\n",
    "\n",
    "# Initialize instances of both GPG class objects\n",
    "gpg = gopigo3.GoPiGo3()\n",
    "egpg = easy.EasyGoPiGo3()\n",
    "\n",
    "# Make sure that all sensors and output devices are uncofigured to start\n",
    "gpg.reset_all()\n",
    "\n",
    "print('GoPiGo Initialized')"
   ]
  },
  {
   "cell_type": "markdown",
   "metadata": {},
   "source": [
    "## Test Eyes"
   ]
  },
  {
   "cell_type": "code",
   "execution_count": 54,
   "metadata": {},
   "outputs": [],
   "source": [
    "import time\n",
    "\n",
    "# assume import code has already imported GPG functions (and initialized)\n",
    "\n",
    "# make variables for the Left Eye and Right Eye\n",
    "l_eye = gpg.LED_LEFT_EYE\n",
    "r_eye = gpg.LED_RIGHT_EYE\n",
    "# make variables for the Left Blinker and Right Blinker\n",
    "lb = gpg.LED_LEFT_BLINKER\n",
    "rb = gpg.LED_RIGHT_BLINKER\n",
    "\n",
    "# make left eye red: \n",
    "gpg.set_led(l_eye, 255, 0, 0)\n",
    "# turn off right eye: \n",
    "gpg.set_led(r_eye, 0, 0, 0)\n",
    "\n",
    "#wait\n",
    "time.sleep(1)\n",
    "\n",
    "# turn off left eye:\n",
    "gpg.set_led(l_eye, 0, 0, 0)\n",
    "# make right eye red:\n",
    "gpg.set_led(r_eye, 255, 0, 0)\n",
    "\n",
    "#wait\n",
    "time.sleep(1)\n",
    "\n",
    "# turn off right eye:\n",
    "gpg.set_led(r_eye, 0, 0, 0)\n",
    "\n"
   ]
  },
  {
   "cell_type": "markdown",
   "metadata": {},
   "source": [
    "## Test Blinkers"
   ]
  },
  {
   "cell_type": "code",
   "execution_count": 55,
   "metadata": {},
   "outputs": [],
   "source": [
    "# turn left blinker full brightness: \n",
    "gpg.set_led(lb, 255)\n",
    "# turn off right blinker (set to 0): \n",
    "gpg.set_led(rb, 0)\n",
    "\n",
    "# wait\n",
    "time.sleep(1)\n",
    "\n",
    "# turn off left blinker (set to 0): \n",
    "gpg.set_led(lb, 0)\n",
    "# turn right blinker full brightness: \n",
    "gpg.set_led(rb, 255)\n",
    "\n",
    "#wait\n",
    "time.sleep(1)\n",
    "\n",
    "# turn off right blinker (set to 0): \n",
    "gpg.set_led(rb, 0)"
   ]
  },
  {
   "cell_type": "markdown",
   "metadata": {},
   "source": [
    "## Grove Ultrasonic Ranger Test (Use Analog Digital Port #1)"
   ]
  },
  {
   "cell_type": "code",
   "execution_count": 43,
   "metadata": {},
   "outputs": [
    {
     "name": "stdout",
     "output_type": "stream",
     "text": [
      "95.3cm\n",
      "94.4cm\n",
      "93.7cm\n",
      "91.7cm\n",
      "90.4cm\n",
      "90.0cm\n",
      "90.5cm\n",
      "90.2cm\n",
      "90.5cm\n",
      "89.3cm\n"
     ]
    }
   ],
   "source": [
    "# CODE FOR READING A GROVE ULTRASONIC SENSOR IN AD1 (Analog Digital Port #1)\n",
    "\n",
    "# set up ultrasonic sensor details\n",
    "US_PORT = gpg.GROVE_1\n",
    "US_TYPE = gpg.GROVE_TYPE.US\n",
    "\n",
    "# set the port as a ultrasonic sensor\n",
    "# NOTE: slightly different format than button or sound\n",
    "gpg.set_grove_type(US_PORT, US_TYPE)\n",
    "\n",
    "time.sleep(0.1) # give settings time to take hold\n",
    "\n",
    "# take 20 readings, each at 1/4 second (so for 5 seconds total)\n",
    "for i in range(10):\n",
    "    time.sleep(0.25)\n",
    "    try:\n",
    "        # Read distance from the sensor\n",
    "        distance = gpg.get_grove_value(US_PORT)\n",
    "        # Print the reading with \"cm\" at the end\n",
    "        print(str(distance / 10) + \"cm\")\n",
    "    # Ignore the erroneous readings\n",
    "    except gpg.SensorError:\n",
    "        pass\n",
    "    except gpg.ValueError:\n",
    "        pass\n",
    "    \n",
    "gpg.reset_all() # cleanup at end"
   ]
  },
  {
   "cell_type": "markdown",
   "metadata": {},
   "source": [
    "## Test Motors"
   ]
  },
  {
   "cell_type": "code",
   "execution_count": 44,
   "metadata": {},
   "outputs": [],
   "source": [
    "import gopigo3\n",
    "import easysensors\n",
    "import easygopigo3 as easy\n",
    "\n",
    "# Initialize instances of both GPG class objects\n",
    "gpg = gopigo3.GoPiGo3()\n",
    "egpg = easy.EasyGoPiGo3()\n",
    "\n",
    "# Make sure that all sensors and output devices are uncofigured to start\n",
    "gpg.reset_all()\n",
    "\n",
    "motorL = gpg.MOTOR_LEFT\n",
    "motorR = gpg.MOTOR_RIGHT\n",
    "gpg.set_motor_power(motorL, 100)\n",
    "gpg.set_motor_power(motorR, 100)\n",
    "time.sleep(2)\n",
    "gpg.set_motor_power(motorL, 0)\n",
    "gpg.set_motor_power(motorR, 0)"
   ]
  },
  {
   "cell_type": "markdown",
   "metadata": {},
   "source": [
    "## Getting Grove Line Finder Readings (Use Analog Digital Port #2)"
   ]
  },
  {
   "cell_type": "code",
   "execution_count": 45,
   "metadata": {},
   "outputs": [
    {
     "name": "stdout",
     "output_type": "stream",
     "text": [
      "Test finding line:\n",
      "Line? False\n",
      "No line? True\n"
     ]
    }
   ],
   "source": [
    "# Declare the port and pin to take input from\n",
    "LINE_PORT = gpg.GROVE_2\n",
    "LINE_PIN = gpg.GROVE_2_1\n",
    "# Set the port as a digital input port\n",
    "gpg.set_grove_type(LINE_PORT, gpg.GROVE_TYPE.CUSTOM)\n",
    "gpg.set_grove_mode(LINE_PORT, gpg.GROVE_INPUT_DIGITAL)\n",
    "\n",
    "# line/no_line variables (can be switched if light line on black surface)\n",
    "LINE    = 1\n",
    "NO_LINE = 0\n",
    "\n",
    "print('Test finding line:')\n",
    "print('Line?', gpg.get_grove_state(LINE_PIN) == LINE)\n",
    "print('No line?', gpg.get_grove_state(LINE_PIN) == NO_LINE)"
   ]
  },
  {
   "cell_type": "code",
   "execution_count": null,
   "metadata": {},
   "outputs": [],
   "source": []
  },
  {
   "cell_type": "code",
   "execution_count": null,
   "metadata": {},
   "outputs": [],
   "source": []
  }
 ],
 "metadata": {
  "kernelspec": {
   "display_name": "Python 3",
   "language": "python",
   "name": "python3"
  },
  "language_info": {
   "codemirror_mode": {
    "name": "ipython",
    "version": 3
   },
   "file_extension": ".py",
   "mimetype": "text/x-python",
   "name": "python",
   "nbconvert_exporter": "python",
   "pygments_lexer": "ipython3",
   "version": "3.5.3"
  }
 },
 "nbformat": 4,
 "nbformat_minor": 2
}
